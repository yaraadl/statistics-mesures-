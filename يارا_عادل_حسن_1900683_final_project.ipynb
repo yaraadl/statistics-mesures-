{
  "nbformat": 4,
  "nbformat_minor": 0,
  "metadata": {
    "kernelspec": {
      "display_name": "R",
      "language": "R",
      "name": "ir"
    },
    "language_info": {
      "codemirror_mode": "r",
      "file_extension": ".r",
      "mimetype": "text/x-r-source",
      "name": "R",
      "pygments_lexer": "r",
      "version": "3.6.3"
    },
    "colab": {
      "name": "يارا عادل حسن 1900683 final project.ipynb",
      "provenance": [],
      "collapsed_sections": []
    }
  },
  "cells": [
    {
      "cell_type": "code",
      "metadata": {
        "colab": {
          "base_uri": "https://localhost:8080/",
          "height": 242
        },
        "id": "PWOQsUAk-GIs",
        "outputId": "92d4a6dd-fcf7-4121-df80-b791f7f11575"
      },
      "source": [
        "\n",
        "#yara adel hassan 19100683\n",
        "#wed 12.30\n",
        "\n",
        "#sequence , group of data\n",
        "x=c(-2 , 1 , 3 , 3\t, 5 ) \n",
        "\n",
        "print(mean(x))\n",
        "print (max(x, na.rm=TRUE) - min(x, na.rm=TRUE))\n",
        "print(range(x))\n",
        "print (mode(x))\n",
        "print(median(x))\n",
        "\n",
        "# Variance (S^2 )\n",
        "print(var(x))\n",
        "#Standard Deviation(S)=√(s^2 )\n",
        "print(sd(x))\n",
        "#\tCoefficient  of Variability (C.V)=S/x    // #na.rm simple way of removing missing values from data\n",
        "print(sd(x, na.rm=TRUE)/mean(x, na.rm=TRUE)*100)\n",
        "#\tskeweness  or sequence\n",
        "print(3*(mean(x, na.rm=TRUE)-median(x, na.rm=TRUE))/sd(x, na.rm=TRUE))\n",
        "\n",
        "\n",
        "weighted.mean(x)\n",
        "gm_mean = function(x, na.rm=TRUE){\n",
        "  exp(sum(log(x[x > 0]), na.rm=na.rm) / length(x))\n",
        "}\n",
        "gm_mean(x)\n",
        "x4=c(1/2, 1/4, 1/5, 9/72, 7/4)\n",
        "gm_mean(x4)\n",
        "\n",
        "\n",
        "#calculate Interquartile range (IQR): 3rd  Quartiles(Q3) - 1st Quartile (Q1).\n",
        "IQR(x)\n",
        "\n",
        "#confidence interval \n",
        "#z=0.675\n",
        "#print(mean(x)+z*(sd(x)/sQuote(5)))\n",
        "\n",
        "\n",
        "\n",
        "\n",
        "\n",
        "\n",
        "\n"
      ],
      "execution_count": null,
      "outputs": [
        {
          "output_type": "stream",
          "name": "stdout",
          "text": [
            "[1] 2\n",
            "[1] 7\n",
            "[1] -2  5\n",
            "[1] \"numeric\"\n",
            "[1] 3\n",
            "[1] 7\n",
            "[1] 2.645751\n",
            "[1] 132.2876\n",
            "[1] -1.133893\n"
          ]
        },
        {
          "output_type": "display_data",
          "data": {
            "text/plain": [
              "[1] 2"
            ],
            "text/latex": "2",
            "text/markdown": "2",
            "text/html": [
              "2"
            ]
          },
          "metadata": {}
        },
        {
          "output_type": "display_data",
          "data": {
            "text/plain": [
              "[1] 2.141127"
            ],
            "text/latex": "2.14112736833832",
            "text/markdown": "2.14112736833832",
            "text/html": [
              "2.14112736833832"
            ]
          },
          "metadata": {}
        },
        {
          "output_type": "display_data",
          "data": {
            "text/plain": [
              "[1] 0.3528398"
            ],
            "text/latex": "0.352839838053499",
            "text/markdown": "0.352839838053499",
            "text/html": [
              "0.352839838053499"
            ]
          },
          "metadata": {}
        },
        {
          "output_type": "display_data",
          "data": {
            "text/plain": [
              "[1] 2"
            ],
            "text/latex": "2",
            "text/markdown": "2",
            "text/html": [
              "2"
            ]
          },
          "metadata": {}
        }
      ]
    }
  ]
}