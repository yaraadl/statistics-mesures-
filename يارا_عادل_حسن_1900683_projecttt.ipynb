{
  "nbformat": 4,
  "nbformat_minor": 0,
  "metadata": {
    "kernelspec": {
      "display_name": "R",
      "language": "R",
      "name": "ir"
    },
    "language_info": {
      "codemirror_mode": "r",
      "file_extension": ".r",
      "mimetype": "text/x-r-source",
      "name": "R",
      "pygments_lexer": "r",
      "version": "3.6.3"
    },
    "colab": {
      "name": "يارا عادل حسن 1900683  projecttt.ipynb",
      "provenance": [],
      "collapsed_sections": []
    }
  },
  "cells": [
    {
      "cell_type": "code",
      "metadata": {
        "colab": {
          "base_uri": "https://localhost:8080/",
          "height": 226
        },
        "id": "PWOQsUAk-GIs",
        "outputId": "63962026-35d9-4eb6-8d8b-e20635bafdc4"
      },
      "source": [
        "#yara adel hassan 19100683\n",
        "#wed 12,30\n",
        "\n",
        "#group of data or sequence \n",
        "x=c(62 , 75 , 67 , 65\t, 68 , 71 , 67 , 81\t, 61\t, 62 , 67 , 63 , 73 ,\t78 ,\t72 ,\t57 ,\t92 ,\n",
        "70 , 59 ,\t65 ,\t88 ,\t67 ,\t73 ,\t75 ,\t66 ,\t63 ,\t67 ,\t74 ,\t71 ,\t80 ,\t66 ,\t67 ,\t78 ,\t\n",
        "74 ,\t82 ,\t60 ,\t55 ,\t74 ,\t82 ,\t61 ,\t57 ,\t69 ,\t77 ,\t77 ,\t68 ,\t85\t, 67 ,\t60 ,\t70 ,\t64)\n",
        "\n",
        "print(mean(x))\n",
        "print (mode(x))\n",
        "print(median(x))\n",
        "print(range(x))\n",
        "print(max(x, na.rm=TRUE) - min(x, na.rm=TRUE))\n",
        "print(var(x))\n",
        "print(sd(y3))\n",
        "print(sd(y3, na.rm=TRUE)/mean(y3, na.rm=TRUE)*100)\n",
        "\n",
        "\n",
        "weighted.mean(x)\n",
        "gom_mean = function(x, na.rm=TRUE){\n",
        "  exp(sum(log(x[x > 0]), na.rm=na.rm) / length(x))\n",
        "}\n",
        "\n",
        "gom_mean(x)\n",
        "\n",
        "y=c(1/2, 1/4, 1/5, 9/72, 7/4)\n",
        "gom_mean(y)\n",
        "\n",
        "#calculate Interquartile range (IQR): 3rd  Quartiles(Q3) - 1st Quartile (Q1).\n",
        "\n",
        "IQR(x)\n",
        "\n",
        "\n",
        "\n",
        "\n",
        "\n",
        "\n",
        "\n"
      ],
      "execution_count": null,
      "outputs": [
        {
          "output_type": "stream",
          "name": "stdout",
          "text": [
            "[1] 69.84\n",
            "[1] \"numeric\"\n",
            "[1] 68\n",
            "[1] 55 92\n",
            "[1] 37\n",
            "[1] 68.38204\n",
            "[1] 8.269343\n",
            "[1] 11.84041\n"
          ]
        },
        {
          "output_type": "display_data",
          "data": {
            "text/plain": [
              "[1] 69.84"
            ],
            "text/latex": "69.84",
            "text/markdown": "69.84",
            "text/html": [
              "69.84"
            ]
          },
          "metadata": {}
        },
        {
          "output_type": "display_data",
          "data": {
            "text/plain": [
              "[1] 69.37276"
            ],
            "text/latex": "69.372756684909",
            "text/markdown": "69.372756684909",
            "text/html": [
              "69.372756684909"
            ]
          },
          "metadata": {}
        },
        {
          "output_type": "display_data",
          "data": {
            "text/plain": [
              "[1] 0.3528398"
            ],
            "text/latex": "0.352839838053499",
            "text/markdown": "0.352839838053499",
            "text/html": [
              "0.352839838053499"
            ]
          },
          "metadata": {}
        },
        {
          "output_type": "display_data",
          "data": {
            "text/plain": [
              "[1] 10.5"
            ],
            "text/latex": "10.5",
            "text/markdown": "10.5",
            "text/html": [
              "10.5"
            ]
          },
          "metadata": {}
        }
      ]
    },
    {
      "cell_type": "code",
      "source": [
        "x=c(62 , 75 , 67 , 65\t, 68 , 71 , 67 , 81\t, 61\t, 62 , 67 , 63 , 73 ,\t78 ,\t72 ,\t57 ,\t92 ,\n",
        "70 , 59 ,\t65 ,\t88 ,\t67 ,\t73 ,\t75 ,\t66 ,\t63 ,\t67 ,\t74 ,\t71 ,\t80 ,\t66 ,\t67 ,\t78 ,\t\n",
        "74 ,\t82 ,\t60 ,\t55 ,\t74 ,\t82 ,\t61 ,\t57 ,\t69 ,\t77 ,\t77 ,\t68 ,\t85\t, 67 ,\t60 ,\t70 ,\t64)\n",
        "\n",
        "\n"
      ],
      "metadata": {
        "colab": {
          "base_uri": "https://localhost:8080/"
        },
        "id": "J2RSnxPyDrNW",
        "outputId": "109fed0c-b876-455c-bff4-35a06ea5616c"
      },
      "execution_count": null,
      "outputs": [
        {
          "output_type": "stream",
          "name": "stdout",
          "text": [
            "[1] \"numeric\"\n"
          ]
        }
      ]
    }
  ]
}